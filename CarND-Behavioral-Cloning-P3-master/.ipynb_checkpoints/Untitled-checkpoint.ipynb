{
 "cells": [
  {
   "cell_type": "code",
   "execution_count": 3,
   "metadata": {},
   "outputs": [
    {
     "ename": "ModuleNotFoundError",
     "evalue": "No module named 'cv2'",
     "output_type": "error",
     "traceback": [
      "\u001b[1;31m---------------------------------------------------------------------------\u001b[0m",
      "\u001b[1;31mModuleNotFoundError\u001b[0m                       Traceback (most recent call last)",
      "\u001b[1;32m<ipython-input-3-47ef8eeeaba6>\u001b[0m in \u001b[0;36m<module>\u001b[1;34m()\u001b[0m\n\u001b[0;32m      1\u001b[0m \u001b[1;32mimport\u001b[0m \u001b[0mtensorflow\u001b[0m \u001b[1;32mas\u001b[0m \u001b[0mtf\u001b[0m\u001b[1;33m\u001b[0m\u001b[1;33m\u001b[0m\u001b[0m\n\u001b[1;32m----> 2\u001b[1;33m \u001b[1;32mimport\u001b[0m \u001b[0mcv2\u001b[0m\u001b[1;33m\u001b[0m\u001b[1;33m\u001b[0m\u001b[0m\n\u001b[0m",
      "\u001b[1;31mModuleNotFoundError\u001b[0m: No module named 'cv2'"
     ]
    }
   ],
   "source": [
    "import tensorflow as tf\n",
    "import cv2"
   ]
  },
  {
   "cell_type": "code",
   "execution_count": 5,
   "metadata": {},
   "outputs": [
    {
     "ename": "ModuleNotFoundError",
     "evalue": "No module named 'keras'",
     "output_type": "error",
     "traceback": [
      "\u001b[1;31m---------------------------------------------------------------------------\u001b[0m",
      "\u001b[1;31mModuleNotFoundError\u001b[0m                       Traceback (most recent call last)",
      "\u001b[1;32m<ipython-input-5-88d96843a926>\u001b[0m in \u001b[0;36m<module>\u001b[1;34m()\u001b[0m\n\u001b[1;32m----> 1\u001b[1;33m \u001b[1;32mimport\u001b[0m \u001b[0mkeras\u001b[0m\u001b[1;33m\u001b[0m\u001b[1;33m\u001b[0m\u001b[0m\n\u001b[0m",
      "\u001b[1;31mModuleNotFoundError\u001b[0m: No module named 'keras'"
     ]
    }
   ],
   "source": [
    "import keras"
   ]
  },
  {
   "cell_type": "markdown",
   "metadata": {
    "collapsed": true
   },
   "source": [
    "# Project Report : Behavioral Cloning\n",
    "\n",
    "\n",
    "[image1]: ./example_image.jpg \"Example Image\"\n",
    "[image2]: ./cropped_image.jpg \"Cropped Image\"\n",
    "[image3]: ./flipped_image.jpg \"Flipped Image\"\n",
    "[image4]: ./model_architecture.png \"Model Architecture\"\n",
    "\n",
    "\n",
    "### Files Submitted & Code Quality\n",
    "\n",
    "#### 1. Submission includes all required files and can be used to run the simulator in autonomous mode\n",
    "\n",
    "My project includes the following files:\n",
    "\n",
    "* model_data.py containing the script to create and train the model\n",
    "* drive.py for driving the car in autonomous mode\n",
    "* model_data.h5 containing a trained convolution neural network \n",
    "* project_report.md summarizing the results\n",
    "\n",
    "\n",
    "#### 2. Submission includes functional code\n",
    "\n",
    "Using the Udacity provided simulator and my drive.py file, the car can be driven autonomously around the track by executing **python drive.py model_data.h5**\n",
    "\n",
    "\n",
    "#### 3. Submission code is usable and readable\n",
    "\n",
    "The **model_data.py** file contains the code for training and saving the convolution neural network. The file shows the pipeline I used for training and validating the model, and it contains comments to explain how the code works.\n",
    "\n",
    "\n",
    "### Model Architecture and Training Strategy\n",
    "\n",
    "#### 1. An appropriate model architecture has been employed\n",
    "\n",
    "As learnt in the classroom, I have employed NVIDIA model presented by Autonomous driving team. Following is the reference architecure of the model taken from NVIDIA website.\n",
    "\n",
    "![Reference_acrhitecture][image4]\n",
    "\n",
    "In this acrhitecture Normalizing layer is being realized with **Lambda** layer of Keras. Normalizing technique and mean centering the data has been used for pre-processing the data.\n",
    "\n",
    "Also cropped image size is **65x320x3** which is different than the reference architecture. \n",
    "\n",
    "Architecture contains total 9 hidden layers and input and output layers.\n",
    "\n",
    "Total 5 convolution layer has been used. Out of 5 convolution layers, first 3 layers are using stride size of **(2, 2)**.\n",
    "\n",
    "After convolution, 1 Flatten layer and 3 Dense layers are used to match the reference architecture.\n",
    "\n",
    "| Layer         \t\t|     Description\t        \t\t\t\t\t| \n",
    "|:---------------------:|:---------------------------------------------:| \n",
    "| Input         \t\t| 65x320x3 RGB image   \t\t\t\t\t\t\t| \n",
    "| Convolution 5x5 (ReLU)| 2x2 stride, valid padding, outputs 31x158x24 \t|\n",
    "| Convolution 5x5 (ReLU)| 2x2 stride, valid padding, outputs 14x77x36 \t|\n",
    "| Convolution 5x5 (ReLU)| 2x2 stride, valid padding, outputs 5x37x48 \t|\n",
    "| Convolution 3x3 (ReLU)| 1x1 stride, valid padding, outputs 3x35x64 \t|\n",
    "| Convolution 3x3 (ReLU)| 1x1 stride, valid padding, outputs 1x33x64 \t|\n",
    "| Flatten\t            | Output 2112 neurons      \t\t\t\t\t\t|\n",
    "| Dense\t\t            | Output 100 neurons        \t\t\t\t\t|\n",
    "| Dense\t\t\t\t    | Output 50 neurons        \t\t\t\t\t\t|\n",
    "| Dense\t\t\t\t\t| Output 10 neurons\t\t\t\t\t\t\t\t|\n",
    "| Dense (Output Layer)\t| Steering measurement Output\t\t\t\t\t|\n",
    "\n",
    "\n",
    "#### 2. Attempts to reduce overfitting in the model\n",
    "\n",
    "With the training data set, model was fitting well and not very high overfitting was observed. The model was trained and validated on different data sets to ensure that the model was not overfitting. The model was tested by running it through the simulator and ensuring that the vehicle could stay on the track.\n",
    "\n",
    "\n",
    "#### 3. Model parameter tuning\n",
    "\n",
    "The model used an adam optimizer, so the learning rate was not tuned manually \n",
    "\n",
    "\n",
    "#### 4. Appropriate training data\n",
    "\n",
    "Training data was chosen to keep the vehicle driving on the road. I used a 2 laps of center lane driving with occasional recovering from drifting towards edge of the road for both the tracks. I also included 2 laps of similar driving by driving in counter clockwise for both the tracks. \n",
    "\n",
    "\n",
    "### Model Architecture and Training Strategy\n",
    "\n",
    "#### 1. Solution Design Approach\n",
    "\n",
    "I followed the learnings from the classroom and used the similar technique. I followed following techniques to reach to the final model :\n",
    "\n",
    "1. I started with very simple model with one convolution layer and one output to ensure that everything was working fine.\n",
    "\n",
    "2. Data was collected and all 3 camera images (center, left and right) has been used to build the model.\n",
    "\n",
    "3. More data was generated by augmenting the data. Augmentation was done by flipping the images and taking the negative of the steering measurement.\n",
    "\n",
    "4. Dataset contains total 42888 images from both the tracks and after including flipped images as well I doubled the size of the dataset.\n",
    "\n",
    "5. Dataset was broken into training and validation set and 20% of the overall dataset was used for validation to ensure no overfitting should be there. Also I shuffled the dataset before breaking it into training and validation set.\n",
    "\n",
    "6. First I tried with dataset from the 1 lap driving but that dataset was overfitting so I collected more data so that model can generalize well as second track was more tricky with lots of curves and turns.\n",
    "\n",
    "7. After ensuring that model is fitting and generalizing well, I used the saved model to run with simulator in autonomous mode. I found that vehicle was driving well in both the tracks. \n",
    "\n",
    "8. To reach to the final solution, I required to collect the data 4-5 times as track 1 was working fine but there was issue with track 2. In the end I collected almost equal amount of data from both the tracks. I collected 2 laps in clockwise and 2 laps in counter-clockwise from both the tracks.\n",
    "\n",
    "\n",
    "#### 2. Final Model Architecture\n",
    "\n",
    "Final model architecture has been discussed in the section **1. An appropriate model architecture has been employed**. \n",
    "\n",
    "\n",
    "#### 3. Creation of the Training Set & Training Process\n",
    "\n",
    "I recorded 2 laps in clockwise and 2 laps in counter-clockwise from both the tracks. During data collection, I enured that i should collect some occasional drifting to sides of the road and recovering back to middle of the road.\n",
    "\n",
    "I cropped the image while reading them from the files instead of cropping it by using Keras **Cropping2D** layer. This gave me advantage to train the model without using generator as it reduced overall size of the image before putting them int training process.\n",
    "\n",
    "Cropping was required so that we can only have road part of the image instead of trees, hills, etc which was of no use while fitting the model and also distracting the model and ultimately drifting the car from the road.\n",
    "\n",
    "I also augmented the data by using flipped images as well. This helped me in combating overfitting and also helped to generalize the model well for both the tracks.\n",
    "\n",
    "Following are the example of original image, cropped image and flipped image.\n",
    "\n",
    "![original_image][image1]\n",
    "![cropped_image][image2]\n",
    "![flipped_image][image3]\n",
    "\n",
    "\n",
    "Finally while fitting the model, 20% of data was used for validation purposes."
   ]
  },
  {
   "cell_type": "code",
   "execution_count": null,
   "metadata": {
    "collapsed": true
   },
   "outputs": [],
   "source": []
  }
 ],
 "metadata": {
  "kernelspec": {
   "display_name": "Python 3",
   "language": "python",
   "name": "python3"
  },
  "language_info": {
   "codemirror_mode": {
    "name": "ipython",
    "version": 3
   },
   "file_extension": ".py",
   "mimetype": "text/x-python",
   "name": "python",
   "nbconvert_exporter": "python",
   "pygments_lexer": "ipython3",
   "version": "3.6.7"
  }
 },
 "nbformat": 4,
 "nbformat_minor": 2
}
